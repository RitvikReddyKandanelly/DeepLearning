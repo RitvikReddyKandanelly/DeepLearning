{
  "nbformat": 4,
  "nbformat_minor": 0,
  "metadata": {
    "colab": {
      "name": "Machine_Translation_with_keras.ipynb",
      "version": "0.3.2",
      "provenance": [],
      "collapsed_sections": [],
      "toc_visible": true,
      "include_colab_link": true
    },
    "kernelspec": {
      "name": "python3",
      "display_name": "Python 3"
    },
    "accelerator": "GPU"
  },
  "cells": [
    {
      "cell_type": "markdown",
      "metadata": {
        "id": "view-in-github",
        "colab_type": "text"
      },
      "source": [
        "<a href=\"https://colab.research.google.com/github/RitvikReddyKandanelly/DeepLearning/blob/master/Machine%20Translation%20Assignment/Machine_Translation_with_keras.ipynb\" target=\"_parent\"><img src=\"https://colab.research.google.com/assets/colab-badge.svg\" alt=\"Open In Colab\"/></a>"
      ]
    },
    {
      "cell_type": "markdown",
      "metadata": {
        "id": "9c8UuK94oMKh",
        "colab_type": "text"
      },
      "source": [
        "# Assignment 4 Neural Machine Translation [Team 2]"
      ]
    },
    {
      "cell_type": "code",
      "metadata": {
        "id": "mNA1_IoYGw93",
        "colab_type": "code",
        "outputId": "eef52462-29fb-489c-b689-f3e9e51709af",
        "colab": {
          "base_uri": "https://localhost:8080/",
          "height": 35
        }
      },
      "source": [
        "import os, zipfile, io, requests\n",
        "URL = 'http://www.manythings.org/anki/deu-eng.zip'\n",
        "def download_images(url):\n",
        "    r = requests.get(url, stream=True)\n",
        "    print ('Downloading ' + url )\n",
        "    zip_ref = zipfile.ZipFile(io.BytesIO(r.content))\n",
        "    zip_ref.extractall('./sample_data/deu-eng')\n",
        "    zip_ref.close()\n",
        "download_images(URL) #To download"
      ],
      "execution_count": 0,
      "outputs": [
        {
          "output_type": "stream",
          "text": [
            "Downloading http://www.manythings.org/anki/deu-eng.zip\n"
          ],
          "name": "stdout"
        }
      ]
    },
    {
      "cell_type": "code",
      "metadata": {
        "id": "nH3bztN4p2g5",
        "colab_type": "code",
        "colab": {}
      },
      "source": [
        "import matplotlib.pyplot as plt\n",
        "def plotLosses(history):  \n",
        "    plt.plot(history.history['loss'])\n",
        "    plt.plot(history.history['val_loss'])\n",
        "    plt.title('model loss')\n",
        "    plt.ylabel('loss')\n",
        "    plt.xlabel('epoch')\n",
        "    plt.legend(['train', 'validation'], loc='upper right')\n",
        "    plt.show()\n",
        "    \n",
        "def plotAcc(history):  \n",
        "    plt.plot(history.history['acc'])\n",
        "    plt.plot(history.history['val_acc'])\n",
        "    plt.title('model accuracy')\n",
        "    plt.ylabel('accuracy')\n",
        "    plt.xlabel('epoch')\n",
        "    plt.legend(['train', 'validation'], loc='upper right')\n",
        "    plt.show()"
      ],
      "execution_count": 0,
      "outputs": []
    },
    {
      "cell_type": "markdown",
      "metadata": {
        "id": "ELxH795vnlZN",
        "colab_type": "text"
      },
      "source": [
        "## Load machine translation dataset"
      ]
    },
    {
      "cell_type": "code",
      "metadata": {
        "id": "mtgwwyX_AV0t",
        "colab_type": "code",
        "colab": {}
      },
      "source": [
        "# load doc into memory\n",
        "def load_doc(filename):\n",
        "\t# open the file as read only\n",
        "\tfile = open(filename, mode='rt', encoding='utf-8')\n",
        "\t# read all text\n",
        "\ttext = file.read()\n",
        "\t# close the file\n",
        "\tfile.close()\n",
        "\treturn text"
      ],
      "execution_count": 0,
      "outputs": []
    },
    {
      "cell_type": "markdown",
      "metadata": {
        "id": "-AyJsZR6CdIr",
        "colab_type": "text"
      },
      "source": [
        "## Split document into sentences"
      ]
    },
    {
      "cell_type": "code",
      "metadata": {
        "id": "J-qc33SMDmgD",
        "colab_type": "code",
        "colab": {}
      },
      "source": [
        "def to_pairs(doc):\n",
        "\tlines = doc.strip().split('\\n')\n",
        "\tpairs = [line.split('\\t') for line in  lines]\n",
        "\treturn pairs"
      ],
      "execution_count": 0,
      "outputs": []
    },
    {
      "cell_type": "markdown",
      "metadata": {
        "id": "4lMl-qKdDvKj",
        "colab_type": "text"
      },
      "source": [
        "## Preprocessing\n",
        "We perform the following preprocessing steps:-\n",
        "\n",
        "1. remove all the non-printable characters\n",
        "2. remove all the punctuation characters\n",
        "3. normalize all unicode characters to ASCII\n",
        "4. normalize the case to lowercase\n",
        "5. remove any tokens that are not alphabetic"
      ]
    },
    {
      "cell_type": "code",
      "metadata": {
        "id": "AuElZG5vDuOM",
        "colab_type": "code",
        "colab": {}
      },
      "source": [
        "def clean_pairs(lines):\n",
        "\tcleaned = list()\n",
        "\t# prepare regex for char filtering\n",
        "\tre_print = re.compile('[^%s]' % re.escape(string.printable))\n",
        "\t# prepare translation table for removing punctuation\n",
        "\ttable = str.maketrans('', '', string.punctuation)\n",
        "\tfor pair in lines:\n",
        "\t\tclean_pair = list()\n",
        "\t\tfor line in pair:\n",
        "\t\t\t# normalize unicode characters\n",
        "\t\t\tline = normalize('NFD', line).encode('ascii', 'ignore')\n",
        "\t\t\tline = line.decode('UTF-8')\n",
        "\t\t\t# tokenize on white space\n",
        "\t\t\tline = line.split()\n",
        "\t\t\t# convert to lowercase\n",
        "\t\t\tline = [word.lower() for word in line]\n",
        "\t\t\t# remove punctuation from each token\n",
        "\t\t\tline = [word.translate(table) for word in line]\n",
        "\t\t\t# remove non-printable chars form each token\n",
        "\t\t\tline = [re_print.sub('', w) for w in line]\n",
        "\t\t\t# remove tokens with numbers in them\n",
        "\t\t\tline = [word for word in line if word.isalpha()]\n",
        "\t\t\t# store as string\n",
        "\t\t\tclean_pair.append(' '.join(line))\n",
        "\t\tcleaned.append(clean_pair)\n",
        "\treturn array(cleaned)"
      ],
      "execution_count": 0,
      "outputs": []
    },
    {
      "cell_type": "code",
      "metadata": {
        "id": "JH3IXR_CHVUm",
        "colab_type": "code",
        "outputId": "0d0e5646-2344-455a-8377-2b993115d75a",
        "colab": {
          "base_uri": "https://localhost:8080/",
          "height": 35
        }
      },
      "source": [
        "%cd sample_data/deu-eng"
      ],
      "execution_count": 0,
      "outputs": [
        {
          "output_type": "stream",
          "text": [
            "/content/sample_data/deu-eng\n"
          ],
          "name": "stdout"
        }
      ]
    },
    {
      "cell_type": "markdown",
      "metadata": {
        "id": "oPcf_t4en96k",
        "colab_type": "text"
      },
      "source": [
        "## Viewing clean German-English sentence pairs"
      ]
    },
    {
      "cell_type": "code",
      "metadata": {
        "id": "6g4qcEB4HCtp",
        "colab_type": "code",
        "outputId": "4bab8073-27fe-476f-ee01-924e4e185409",
        "colab": {
          "base_uri": "https://localhost:8080/",
          "height": 1872
        }
      },
      "source": [
        "import string\n",
        "import re\n",
        "from pickle import dump\n",
        "from unicodedata import normalize\n",
        "from numpy import array\n",
        "\n",
        "# save a list of clean sentences to file\n",
        "def save_clean_data(sentences, filename):\n",
        "\tdump(sentences, open(filename, 'wb'))\n",
        "\tprint('Saved: %s' % filename)\n",
        " \n",
        "filename = 'deu.txt'\n",
        "doc = load_doc(filename)\n",
        "# split into english-german pairs\n",
        "pairs = to_pairs(doc)\n",
        "# clean sentences\n",
        "clean_pairs = clean_pairs(pairs)\n",
        "# save clean pairs to file\n",
        "save_clean_data(clean_pairs, 'english-german.pkl')\n",
        "# spot check\n",
        "for i in range(100):\n",
        "\tprint('[%s] => [%s]' % (clean_pairs[i,0], clean_pairs[i,1]))"
      ],
      "execution_count": 0,
      "outputs": [
        {
          "output_type": "stream",
          "text": [
            "Saved: english-german.pkl\n",
            "[hi] => [hallo]\n",
            "[hi] => [gru gott]\n",
            "[run] => [lauf]\n",
            "[wow] => [potzdonner]\n",
            "[wow] => [donnerwetter]\n",
            "[fire] => [feuer]\n",
            "[help] => [hilfe]\n",
            "[help] => [zu hulf]\n",
            "[stop] => [stopp]\n",
            "[wait] => [warte]\n",
            "[go on] => [mach weiter]\n",
            "[hello] => [hallo]\n",
            "[i ran] => [ich rannte]\n",
            "[i see] => [ich verstehe]\n",
            "[i see] => [aha]\n",
            "[i try] => [ich probiere es]\n",
            "[i won] => [ich hab gewonnen]\n",
            "[i won] => [ich habe gewonnen]\n",
            "[smile] => [lacheln]\n",
            "[cheers] => [zum wohl]\n",
            "[freeze] => [keine bewegung]\n",
            "[freeze] => [stehenbleiben]\n",
            "[got it] => [kapiert]\n",
            "[got it] => [verstanden]\n",
            "[got it] => [einverstanden]\n",
            "[he ran] => [er rannte]\n",
            "[he ran] => [er lief]\n",
            "[hop in] => [mach mit]\n",
            "[hug me] => [druck mich]\n",
            "[hug me] => [nimm mich in den arm]\n",
            "[hug me] => [umarme mich]\n",
            "[i fell] => [ich fiel]\n",
            "[i fell] => [ich fiel hin]\n",
            "[i fell] => [ich sturzte]\n",
            "[i fell] => [ich bin hingefallen]\n",
            "[i fell] => [ich bin gesturzt]\n",
            "[i know] => [ich wei]\n",
            "[i lied] => [ich habe gelogen]\n",
            "[i lost] => [ich habe verloren]\n",
            "[i paid] => [ich habe bezahlt]\n",
            "[i paid] => [ich zahlte]\n",
            "[i swim] => [ich schwimme]\n",
            "[im] => [ich bin jahre alt]\n",
            "[im] => [ich bin]\n",
            "[im ok] => [mir gehts gut]\n",
            "[im ok] => [es geht mir gut]\n",
            "[im up] => [ich bin wach]\n",
            "[im up] => [ich bin auf]\n",
            "[no way] => [unmoglich]\n",
            "[no way] => [das kommt nicht in frage]\n",
            "[no way] => [das gibts doch nicht]\n",
            "[no way] => [ausgeschlossen]\n",
            "[no way] => [in keinster weise]\n",
            "[really] => [wirklich]\n",
            "[really] => [echt]\n",
            "[really] => [im ernst]\n",
            "[thanks] => [danke]\n",
            "[try it] => [versuchs]\n",
            "[why me] => [warum ich]\n",
            "[ask tom] => [frag tom]\n",
            "[ask tom] => [fragen sie tom]\n",
            "[ask tom] => [fragt tom]\n",
            "[be cool] => [entspann dich]\n",
            "[be fair] => [sei nicht ungerecht]\n",
            "[be fair] => [sei fair]\n",
            "[be nice] => [sei nett]\n",
            "[be nice] => [seien sie nett]\n",
            "[beat it] => [geh weg]\n",
            "[beat it] => [hau ab]\n",
            "[beat it] => [verschwinde]\n",
            "[beat it] => [verdufte]\n",
            "[beat it] => [mach dich fort]\n",
            "[beat it] => [zieh leine]\n",
            "[beat it] => [mach dich vom acker]\n",
            "[beat it] => [verzieh dich]\n",
            "[beat it] => [verkrumele dich]\n",
            "[beat it] => [troll dich]\n",
            "[beat it] => [zisch ab]\n",
            "[beat it] => [pack dich]\n",
            "[beat it] => [mach ne fliege]\n",
            "[beat it] => [schwirr ab]\n",
            "[beat it] => [mach die sause]\n",
            "[beat it] => [scher dich weg]\n",
            "[beat it] => [scher dich fort]\n",
            "[call me] => [ruf mich an]\n",
            "[come in] => [komm herein]\n",
            "[come in] => [herein]\n",
            "[come on] => [komm]\n",
            "[come on] => [kommt]\n",
            "[come on] => [mach schon]\n",
            "[come on] => [macht schon]\n",
            "[come on] => [komm schon]\n",
            "[get tom] => [hol tom]\n",
            "[get out] => [raus]\n",
            "[get out] => [geh raus]\n",
            "[get out] => [geht raus]\n",
            "[go away] => [geh weg]\n",
            "[go away] => [hau ab]\n",
            "[go away] => [verschwinde]\n",
            "[go away] => [verdufte]\n"
          ],
          "name": "stdout"
        }
      ]
    },
    {
      "cell_type": "markdown",
      "metadata": {
        "id": "OoiMlMctoIo7",
        "colab_type": "text"
      },
      "source": [
        "## Splitting dataset into train & test"
      ]
    },
    {
      "cell_type": "code",
      "metadata": {
        "id": "07oCby4HJdgK",
        "colab_type": "code",
        "outputId": "77e5ba5f-ac0e-48c1-bfd1-944ef37fc0e1",
        "colab": {
          "base_uri": "https://localhost:8080/",
          "height": 72
        }
      },
      "source": [
        "from pickle import load\n",
        "from pickle import dump\n",
        "from numpy.random import rand\n",
        "from numpy.random import shuffle\n",
        " \n",
        "# load a clean dataset\n",
        "def load_clean_sentences(filename):\n",
        "\treturn load(open(filename, 'rb'))\n",
        " \n",
        "# save a list of clean sentences to file\n",
        "def save_clean_data(sentences, filename):\n",
        "\tdump(sentences, open(filename, 'wb'))\n",
        "\tprint('Saved: %s' % filename)\n",
        " \n",
        "# load dataset\n",
        "raw_dataset = load_clean_sentences('english-german.pkl')\n",
        " \n",
        "# reduce dataset size\n",
        "n_sentences = 10000\n",
        "dataset = raw_dataset[:n_sentences, :]\n",
        "# random shuffle\n",
        "shuffle(dataset)\n",
        "# split into train/test\n",
        "train, test = dataset[:9000], dataset[9000:]\n",
        "# save\n",
        "save_clean_data(dataset, 'english-german-both.pkl')\n",
        "save_clean_data(train, 'english-german-train.pkl')\n",
        "save_clean_data(test, 'english-german-test.pkl')"
      ],
      "execution_count": 0,
      "outputs": [
        {
          "output_type": "stream",
          "text": [
            "Saved: english-german-both.pkl\n",
            "Saved: english-german-train.pkl\n",
            "Saved: english-german-test.pkl\n"
          ],
          "name": "stdout"
        }
      ]
    },
    {
      "cell_type": "code",
      "metadata": {
        "id": "JROv_IuOJj_j",
        "colab_type": "code",
        "colab": {}
      },
      "source": [
        "# load a clean dataset\n",
        "def load_clean_sentences(filename):\n",
        "\treturn load(open(filename, 'rb'))\n",
        " \n",
        "# load datasets\n",
        "dataset = load_clean_sentences('english-german-both.pkl')\n",
        "train = load_clean_sentences('english-german-train.pkl')\n",
        "test = load_clean_sentences('english-german-test.pkl')"
      ],
      "execution_count": 0,
      "outputs": []
    },
    {
      "cell_type": "markdown",
      "metadata": {
        "id": "w5-BvhfLoZtr",
        "colab_type": "text"
      },
      "source": [
        "## Building model"
      ]
    },
    {
      "cell_type": "code",
      "metadata": {
        "id": "WJa2J9azJmM0",
        "colab_type": "code",
        "outputId": "41e61956-d127-46d0-a54b-537c0b0921ee",
        "colab": {
          "base_uri": "https://localhost:8080/",
          "height": 35
        }
      },
      "source": [
        "from numpy import array\n",
        "from keras.preprocessing.text import Tokenizer\n",
        "from keras.preprocessing.sequence import pad_sequences\n",
        "from keras.utils import to_categorical\n",
        "from keras.utils.vis_utils import plot_model\n",
        "from keras.models import Sequential\n",
        "from keras.layers import LSTM,GRU\n",
        "from keras.layers import Dense\n",
        "from keras.layers import Embedding\n",
        "from keras.layers import RepeatVector\n",
        "from keras.layers import TimeDistributed, Bidirectional\n",
        "from keras.callbacks import ModelCheckpoint\n",
        " \n",
        "# load a clean dataset\n",
        "def load_clean_sentences(filename):\n",
        "\treturn load(open(filename, 'rb'))\n",
        " \n",
        "# fit a tokenizer\n",
        "def create_tokenizer(lines):\n",
        "\ttokenizer = Tokenizer()\n",
        "\ttokenizer.fit_on_texts(lines)\n",
        "\treturn tokenizer\n",
        " \n",
        "# max sentence length\n",
        "def max_length(lines):\n",
        "\treturn max(len(line.split()) for line in lines)\n",
        " \n",
        "# encode and pad sequences\n",
        "def encode_sequences(tokenizer, length, lines):\n",
        "\t# integer encode sequences\n",
        "\tX = tokenizer.texts_to_sequences(lines)\n",
        "\t# pad sequences with 0 values\n",
        "\tX = pad_sequences(X, maxlen=length, padding='post')\n",
        "\treturn X\n",
        " \n",
        "# one hot encode target sequence\n",
        "def encode_output(sequences, vocab_size):\n",
        "\tylist = list()\n",
        "\tfor sequence in sequences:\n",
        "\t\tencoded = to_categorical(sequence, num_classes=vocab_size)\n",
        "\t\tylist.append(encoded)\n",
        "\ty = array(ylist)\n",
        "\ty = y.reshape(sequences.shape[0], sequences.shape[1], vocab_size)\n",
        "\treturn y\n",
        " \n",
        "\n"
      ],
      "execution_count": 0,
      "outputs": [
        {
          "output_type": "stream",
          "text": [
            "Using TensorFlow backend.\n"
          ],
          "name": "stderr"
        }
      ]
    },
    {
      "cell_type": "markdown",
      "metadata": {
        "id": "cWAQZXhMohBa",
        "colab_type": "text"
      },
      "source": [
        "## Model 1 Using LSTMs"
      ]
    },
    {
      "cell_type": "code",
      "metadata": {
        "id": "cMbhGVnoofu4",
        "colab_type": "code",
        "outputId": "973a6671-37ea-4287-c853-c37465684638",
        "colab": {
          "base_uri": "https://localhost:8080/",
          "height": 2774
        }
      },
      "source": [
        "# define NMT model\n",
        "def define_model(src_vocab, tar_vocab, src_timesteps, tar_timesteps, n_units):\n",
        "\t##encoder\n",
        " model = Sequential()\n",
        " model.add(Embedding(src_vocab, n_units, input_length=src_timesteps, mask_zero=True))\n",
        " model.add(LSTM(n_units))\n",
        "\t##decoder\n",
        " model.add(RepeatVector(tar_timesteps))\n",
        " model.add(LSTM(n_units, return_sequences=True))\n",
        " model.add(TimeDistributed(Dense(tar_vocab, activation='softmax')))\n",
        " return model\n",
        "\n",
        "# load datasets\n",
        "dataset = load_clean_sentences('english-german-both.pkl')\n",
        "train = load_clean_sentences('english-german-train.pkl')\n",
        "test = load_clean_sentences('english-german-test.pkl')\n",
        " \n",
        "# prepare english tokenizer\n",
        "eng_tokenizer = create_tokenizer(dataset[:, 0])\n",
        "eng_vocab_size = len(eng_tokenizer.word_index) + 1\n",
        "eng_length = max_length(dataset[:, 0])\n",
        "print('English Vocabulary Size: %d' % eng_vocab_size)\n",
        "print('English Max Length: %d' % (eng_length))\n",
        "# prepare german tokenizer\n",
        "ger_tokenizer = create_tokenizer(dataset[:, 1])\n",
        "ger_vocab_size = len(ger_tokenizer.word_index) + 1\n",
        "ger_length = max_length(dataset[:, 1])\n",
        "print('German Vocabulary Size: %d' % ger_vocab_size)\n",
        "print('German Max Length: %d' % (ger_length))\n",
        " \n",
        "# prepare training data\n",
        "trainX = encode_sequences(ger_tokenizer, ger_length, train[:, 1])\n",
        "trainY = encode_sequences(eng_tokenizer, eng_length, train[:, 0])\n",
        "trainY = encode_output(trainY, eng_vocab_size)\n",
        "# prepare validation data\n",
        "testX = encode_sequences(ger_tokenizer, ger_length, test[:, 1])\n",
        "testY = encode_sequences(eng_tokenizer, eng_length, test[:, 0])\n",
        "testY = encode_output(testY, eng_vocab_size)\n",
        " \n",
        "# define model\n",
        "#model = define_model(ger_vocab_size, eng_vocab_size, ger_length, eng_length, 256)\n",
        "model = define_model(ger_vocab_size, eng_vocab_size, ger_length, eng_length, 256)\n",
        "model.compile(optimizer='adam', loss='categorical_crossentropy',metrics = ['accuracy'])\n",
        "# summarize defined model\n",
        "print(model.summary())\n",
        "plot_model(model, to_file='model.png', show_shapes=True)\n",
        "# fit model\n",
        "filename = 'model1.h5'\n",
        "checkpoint = ModelCheckpoint(filename, verbose=1, save_best_only=True, mode='min')\n",
        "history1 = model.fit(trainX, trainY, epochs=30, batch_size=64, validation_data=(testX, testY), callbacks=[checkpoint], verbose=1)"
      ],
      "execution_count": 0,
      "outputs": [
        {
          "output_type": "stream",
          "text": [
            "English Vocabulary Size: 2309\n",
            "English Max Length: 5\n",
            "German Vocabulary Size: 3657\n",
            "German Max Length: 10\n",
            "WARNING:tensorflow:From /usr/local/lib/python3.6/dist-packages/tensorflow/python/framework/op_def_library.py:263: colocate_with (from tensorflow.python.framework.ops) is deprecated and will be removed in a future version.\n",
            "Instructions for updating:\n",
            "Colocations handled automatically by placer.\n",
            "_________________________________________________________________\n",
            "Layer (type)                 Output Shape              Param #   \n",
            "=================================================================\n",
            "embedding_1 (Embedding)      (None, 10, 256)           936192    \n",
            "_________________________________________________________________\n",
            "lstm_1 (LSTM)                (None, 256)               525312    \n",
            "_________________________________________________________________\n",
            "repeat_vector_1 (RepeatVecto (None, 5, 256)            0         \n",
            "_________________________________________________________________\n",
            "lstm_2 (LSTM)                (None, 5, 256)            525312    \n",
            "_________________________________________________________________\n",
            "time_distributed_1 (TimeDist (None, 5, 2309)           593413    \n",
            "=================================================================\n",
            "Total params: 2,580,229\n",
            "Trainable params: 2,580,229\n",
            "Non-trainable params: 0\n",
            "_________________________________________________________________\n",
            "None\n",
            "WARNING:tensorflow:From /usr/local/lib/python3.6/dist-packages/tensorflow/python/ops/math_ops.py:3066: to_int32 (from tensorflow.python.ops.math_ops) is deprecated and will be removed in a future version.\n",
            "Instructions for updating:\n",
            "Use tf.cast instead.\n",
            "Train on 9000 samples, validate on 1000 samples\n",
            "Epoch 1/30\n",
            "9000/9000 [==============================] - 13s 1ms/step - loss: 4.3173 - acc: 0.4213 - val_loss: 3.5424 - val_acc: 0.4434\n",
            "\n",
            "Epoch 00001: val_loss improved from inf to 3.54237, saving model to model1.h5\n",
            "Epoch 2/30\n",
            "9000/9000 [==============================] - 9s 997us/step - loss: 3.4151 - acc: 0.4499 - val_loss: 3.4002 - val_acc: 0.4598\n",
            "\n",
            "Epoch 00002: val_loss improved from 3.54237 to 3.40024, saving model to model1.h5\n",
            "Epoch 3/30\n",
            "9000/9000 [==============================] - 9s 1ms/step - loss: 3.2671 - acc: 0.4641 - val_loss: 3.3153 - val_acc: 0.4744\n",
            "\n",
            "Epoch 00003: val_loss improved from 3.40024 to 3.31532, saving model to model1.h5\n",
            "Epoch 4/30\n",
            "9000/9000 [==============================] - 9s 1ms/step - loss: 3.1303 - acc: 0.4788 - val_loss: 3.1962 - val_acc: 0.4870\n",
            "\n",
            "Epoch 00004: val_loss improved from 3.31532 to 3.19616, saving model to model1.h5\n",
            "Epoch 5/30\n",
            "9000/9000 [==============================] - 9s 1ms/step - loss: 2.9911 - acc: 0.4872 - val_loss: 3.1190 - val_acc: 0.4942\n",
            "\n",
            "Epoch 00005: val_loss improved from 3.19616 to 3.11900, saving model to model1.h5\n",
            "Epoch 6/30\n",
            "9000/9000 [==============================] - 9s 1ms/step - loss: 2.8370 - acc: 0.5085 - val_loss: 2.9628 - val_acc: 0.5222\n",
            "\n",
            "Epoch 00006: val_loss improved from 3.11900 to 2.96281, saving model to model1.h5\n",
            "Epoch 7/30\n",
            "9000/9000 [==============================] - 9s 1ms/step - loss: 2.6546 - acc: 0.5339 - val_loss: 2.8402 - val_acc: 0.5366\n",
            "\n",
            "Epoch 00007: val_loss improved from 2.96281 to 2.84021, saving model to model1.h5\n",
            "Epoch 8/30\n",
            "9000/9000 [==============================] - 9s 995us/step - loss: 2.4862 - acc: 0.5543 - val_loss: 2.7386 - val_acc: 0.5526\n",
            "\n",
            "Epoch 00008: val_loss improved from 2.84021 to 2.73863, saving model to model1.h5\n",
            "Epoch 9/30\n",
            "9000/9000 [==============================] - 9s 1ms/step - loss: 2.3236 - acc: 0.5742 - val_loss: 2.6193 - val_acc: 0.5680\n",
            "\n",
            "Epoch 00009: val_loss improved from 2.73863 to 2.61926, saving model to model1.h5\n",
            "Epoch 10/30\n",
            "9000/9000 [==============================] - 9s 998us/step - loss: 2.1686 - acc: 0.5935 - val_loss: 2.5408 - val_acc: 0.5776\n",
            "\n",
            "Epoch 00010: val_loss improved from 2.61926 to 2.54076, saving model to model1.h5\n",
            "Epoch 11/30\n",
            "9000/9000 [==============================] - 9s 1ms/step - loss: 2.0281 - acc: 0.6123 - val_loss: 2.4671 - val_acc: 0.5892\n",
            "\n",
            "Epoch 00011: val_loss improved from 2.54076 to 2.46715, saving model to model1.h5\n",
            "Epoch 12/30\n",
            "9000/9000 [==============================] - 9s 1ms/step - loss: 1.8970 - acc: 0.6284 - val_loss: 2.3988 - val_acc: 0.5980\n",
            "\n",
            "Epoch 00012: val_loss improved from 2.46715 to 2.39878, saving model to model1.h5\n",
            "Epoch 13/30\n",
            "9000/9000 [==============================] - 9s 1ms/step - loss: 1.7757 - acc: 0.6451 - val_loss: 2.3386 - val_acc: 0.6062\n",
            "\n",
            "Epoch 00013: val_loss improved from 2.39878 to 2.33860, saving model to model1.h5\n",
            "Epoch 14/30\n",
            "9000/9000 [==============================] - 9s 995us/step - loss: 1.6644 - acc: 0.6577 - val_loss: 2.2858 - val_acc: 0.6150\n",
            "\n",
            "Epoch 00014: val_loss improved from 2.33860 to 2.28583, saving model to model1.h5\n",
            "Epoch 15/30\n",
            "9000/9000 [==============================] - 9s 997us/step - loss: 1.5568 - acc: 0.6722 - val_loss: 2.2546 - val_acc: 0.6174\n",
            "\n",
            "Epoch 00015: val_loss improved from 2.28583 to 2.25458, saving model to model1.h5\n",
            "Epoch 16/30\n",
            "9000/9000 [==============================] - 9s 1000us/step - loss: 1.4554 - acc: 0.6869 - val_loss: 2.2013 - val_acc: 0.6280\n",
            "\n",
            "Epoch 00016: val_loss improved from 2.25458 to 2.20126, saving model to model1.h5\n",
            "Epoch 17/30\n",
            "9000/9000 [==============================] - 9s 1ms/step - loss: 1.3545 - acc: 0.7027 - val_loss: 2.1601 - val_acc: 0.6372\n",
            "\n",
            "Epoch 00017: val_loss improved from 2.20126 to 2.16009, saving model to model1.h5\n",
            "Epoch 18/30\n",
            "9000/9000 [==============================] - 9s 996us/step - loss: 1.2611 - acc: 0.7199 - val_loss: 2.1340 - val_acc: 0.6422\n",
            "\n",
            "Epoch 00018: val_loss improved from 2.16009 to 2.13402, saving model to model1.h5\n",
            "Epoch 19/30\n",
            "9000/9000 [==============================] - 9s 1ms/step - loss: 1.1732 - acc: 0.7351 - val_loss: 2.0900 - val_acc: 0.6448\n",
            "\n",
            "Epoch 00019: val_loss improved from 2.13402 to 2.08999, saving model to model1.h5\n",
            "Epoch 20/30\n",
            "9000/9000 [==============================] - 9s 1ms/step - loss: 1.0840 - acc: 0.7510 - val_loss: 2.0741 - val_acc: 0.6472\n",
            "\n",
            "Epoch 00020: val_loss improved from 2.08999 to 2.07412, saving model to model1.h5\n",
            "Epoch 21/30\n",
            "9000/9000 [==============================] - 9s 1ms/step - loss: 1.0019 - acc: 0.7683 - val_loss: 2.0543 - val_acc: 0.6468\n",
            "\n",
            "Epoch 00021: val_loss improved from 2.07412 to 2.05426, saving model to model1.h5\n",
            "Epoch 22/30\n",
            "9000/9000 [==============================] - 9s 1ms/step - loss: 0.9229 - acc: 0.7829 - val_loss: 2.0235 - val_acc: 0.6548\n",
            "\n",
            "Epoch 00022: val_loss improved from 2.05426 to 2.02351, saving model to model1.h5\n",
            "Epoch 23/30\n",
            "9000/9000 [==============================] - 9s 1ms/step - loss: 0.8487 - acc: 0.8009 - val_loss: 2.0074 - val_acc: 0.6594\n",
            "\n",
            "Epoch 00023: val_loss improved from 2.02351 to 2.00741, saving model to model1.h5\n",
            "Epoch 24/30\n",
            "9000/9000 [==============================] - 9s 1ms/step - loss: 0.7780 - acc: 0.8183 - val_loss: 1.9983 - val_acc: 0.6594\n",
            "\n",
            "Epoch 00024: val_loss improved from 2.00741 to 1.99834, saving model to model1.h5\n",
            "Epoch 25/30\n",
            "9000/9000 [==============================] - 9s 1ms/step - loss: 0.7154 - acc: 0.8344 - val_loss: 1.9839 - val_acc: 0.6654\n",
            "\n",
            "Epoch 00025: val_loss improved from 1.99834 to 1.98386, saving model to model1.h5\n",
            "Epoch 26/30\n",
            "9000/9000 [==============================] - 9s 1ms/step - loss: 0.6559 - acc: 0.8473 - val_loss: 1.9767 - val_acc: 0.6728\n",
            "\n",
            "Epoch 00026: val_loss improved from 1.98386 to 1.97675, saving model to model1.h5\n",
            "Epoch 27/30\n",
            "9000/9000 [==============================] - 9s 999us/step - loss: 0.5981 - acc: 0.8633 - val_loss: 1.9673 - val_acc: 0.6744\n",
            "\n",
            "Epoch 00027: val_loss improved from 1.97675 to 1.96725, saving model to model1.h5\n",
            "Epoch 28/30\n",
            "9000/9000 [==============================] - 9s 1ms/step - loss: 0.5484 - acc: 0.8738 - val_loss: 1.9625 - val_acc: 0.6754\n",
            "\n",
            "Epoch 00028: val_loss improved from 1.96725 to 1.96252, saving model to model1.h5\n",
            "Epoch 29/30\n",
            "9000/9000 [==============================] - 9s 1000us/step - loss: 0.5000 - acc: 0.8854 - val_loss: 1.9561 - val_acc: 0.6778\n",
            "\n",
            "Epoch 00029: val_loss improved from 1.96252 to 1.95608, saving model to model1.h5\n",
            "Epoch 30/30\n",
            "9000/9000 [==============================] - 9s 1ms/step - loss: 0.4597 - acc: 0.8939 - val_loss: 1.9464 - val_acc: 0.6812\n",
            "\n",
            "Epoch 00030: val_loss improved from 1.95608 to 1.94639, saving model to model1.h5\n"
          ],
          "name": "stdout"
        }
      ]
    },
    {
      "cell_type": "code",
      "metadata": {
        "id": "lLuJv77Sp6Pa",
        "colab_type": "code",
        "outputId": "4f69ff75-64da-48d2-d7aa-12a06433112f",
        "colab": {
          "base_uri": "https://localhost:8080/",
          "height": 735
        }
      },
      "source": [
        "plotLosses(history1)\n",
        "plotAcc(history1)"
      ],
      "execution_count": 0,
      "outputs": [
        {
          "output_type": "display_data",
          "data": {
            "image/png": "[encoded data removed]",
            "text/plain": [
              "<Figure size 576x396 with 1 Axes>"
            ]
          },
          "metadata": {
            "tags": []
          }
        },
        {
          "output_type": "display_data",
          "data": {
            "image/png": "[encoded data removed]",
            "text/plain": [
              "<Figure size 576x396 with 1 Axes>"
            ]
          },
          "metadata": {
            "tags": []
          }
        }
      ]
    },
    {
      "cell_type": "markdown",
      "metadata": {
        "id": "Qifwf63SmY8y",
        "colab_type": "text"
      },
      "source": [
        "## Model 2 Using Bi-directional LSTMs"
      ]
    },
    {
      "cell_type": "code",
      "metadata": {
        "id": "Zz6kXQqamRxh",
        "colab_type": "code",
        "colab": {}
      },
      "source": [
        "def define_model_2(src_vocab, tar_vocab, src_timesteps, tar_timesteps, n_units):\n",
        "##encoder\n",
        " model = Sequential()\n",
        " model.add(Embedding(src_vocab, n_units, input_length=src_timesteps, mask_zero=True))\n",
        " model.add(Bidirectional(LSTM(n_units)))\n",
        "#decoder\n",
        " model.add(RepeatVector(tar_timesteps))\n",
        " model.add(Bidirectional(LSTM(n_units, return_sequences=True)))\n",
        " model.add(TimeDistributed(Dense(tar_vocab, activation='softmax')))\n",
        " return model"
      ],
      "execution_count": 0,
      "outputs": []
    },
    {
      "cell_type": "code",
      "metadata": {
        "id": "OIvziWG4m4Fi",
        "colab_type": "code",
        "outputId": "0f3ec089-c8ca-4c20-9d30-a581effb3452",
        "colab": {
          "base_uri": "https://localhost:8080/",
          "height": 2570
        }
      },
      "source": [
        "# define model\n",
        "#model = define_model(ger_vocab_size, eng_vocab_size, ger_length, eng_length, 256)\n",
        "model = define_model_2(ger_vocab_size, eng_vocab_size, ger_length, eng_length, 256)\n",
        "model.compile(optimizer='adam', loss='categorical_crossentropy',metrics = ['accuracy'])\n",
        "# summarize defined model\n",
        "print(model.summary())\n",
        "plot_model(model, to_file='model.png', show_shapes=True)\n",
        "# fit model\n",
        "filename = 'model2.h5'\n",
        "checkpoint = ModelCheckpoint(filename, verbose=1, save_best_only=True, mode='min')\n",
        "history2=model.fit(trainX, trainY, epochs=30, batch_size=64, validation_data=(testX, testY), callbacks=[checkpoint], verbose=1)\n"
      ],
      "execution_count": 0,
      "outputs": [
        {
          "output_type": "stream",
          "text": [
            "_________________________________________________________________\n",
            "Layer (type)                 Output Shape              Param #   \n",
            "=================================================================\n",
            "embedding_8 (Embedding)      (None, 10, 256)           936192    \n",
            "_________________________________________________________________\n",
            "bidirectional_3 (Bidirection (None, 512)               1050624   \n",
            "_________________________________________________________________\n",
            "repeat_vector_7 (RepeatVecto (None, 5, 512)            0         \n",
            "_________________________________________________________________\n",
            "bidirectional_4 (Bidirection (None, 5, 512)            1574912   \n",
            "_________________________________________________________________\n",
            "time_distributed_7 (TimeDist (None, 5, 2309)           1184517   \n",
            "=================================================================\n",
            "Total params: 4,746,245\n",
            "Trainable params: 4,746,245\n",
            "Non-trainable params: 0\n",
            "_________________________________________________________________\n",
            "None\n",
            "Train on 9000 samples, validate on 1000 samples\n",
            "Epoch 1/30\n",
            "9000/9000 [==============================] - 19s 2ms/step - loss: 4.0362 - acc: 0.4373 - val_loss: 3.4225 - val_acc: 0.4676\n",
            "\n",
            "Epoch 00001: val_loss improved from inf to 3.42247, saving model to model2.h5\n",
            "Epoch 2/30\n",
            "9000/9000 [==============================] - 14s 2ms/step - loss: 3.1715 - acc: 0.4880 - val_loss: 3.0960 - val_acc: 0.5064\n",
            "\n",
            "Epoch 00002: val_loss improved from 3.42247 to 3.09599, saving model to model2.h5\n",
            "Epoch 3/30\n",
            "9000/9000 [==============================] - 14s 2ms/step - loss: 2.7589 - acc: 0.5387 - val_loss: 2.7488 - val_acc: 0.5528\n",
            "\n",
            "Epoch 00003: val_loss improved from 3.09599 to 2.74877, saving model to model2.h5\n",
            "Epoch 4/30\n",
            "9000/9000 [==============================] - 14s 2ms/step - loss: 2.3813 - acc: 0.5815 - val_loss: 2.5364 - val_acc: 0.5796\n",
            "\n",
            "Epoch 00004: val_loss improved from 2.74877 to 2.53639, saving model to model2.h5\n",
            "Epoch 5/30\n",
            "9000/9000 [==============================] - 14s 2ms/step - loss: 2.0560 - acc: 0.6200 - val_loss: 2.3501 - val_acc: 0.6002\n",
            "\n",
            "Epoch 00005: val_loss improved from 2.53639 to 2.35010, saving model to model2.h5\n",
            "Epoch 6/30\n",
            "9000/9000 [==============================] - 14s 2ms/step - loss: 1.7519 - acc: 0.6527 - val_loss: 2.1934 - val_acc: 0.6202\n",
            "\n",
            "Epoch 00006: val_loss improved from 2.35010 to 2.19338, saving model to model2.h5\n",
            "Epoch 7/30\n",
            "9000/9000 [==============================] - 14s 2ms/step - loss: 1.4593 - acc: 0.6889 - val_loss: 2.0565 - val_acc: 0.6392\n",
            "\n",
            "Epoch 00007: val_loss improved from 2.19338 to 2.05655, saving model to model2.h5\n",
            "Epoch 8/30\n",
            "9000/9000 [==============================] - 14s 2ms/step - loss: 1.2026 - acc: 0.7276 - val_loss: 1.9756 - val_acc: 0.6526\n",
            "\n",
            "Epoch 00008: val_loss improved from 2.05655 to 1.97565, saving model to model2.h5\n",
            "Epoch 9/30\n",
            "9000/9000 [==============================] - 14s 2ms/step - loss: 0.9737 - acc: 0.7693 - val_loss: 1.8855 - val_acc: 0.6672\n",
            "\n",
            "Epoch 00009: val_loss improved from 1.97565 to 1.88553, saving model to model2.h5\n",
            "Epoch 10/30\n",
            "9000/9000 [==============================] - 14s 2ms/step - loss: 0.7875 - acc: 0.8069 - val_loss: 1.8261 - val_acc: 0.6776\n",
            "\n",
            "Epoch 00010: val_loss improved from 1.88553 to 1.82607, saving model to model2.h5\n",
            "Epoch 11/30\n",
            "9000/9000 [==============================] - 14s 2ms/step - loss: 0.6343 - acc: 0.8395 - val_loss: 1.7960 - val_acc: 0.6866\n",
            "\n",
            "Epoch 00011: val_loss improved from 1.82607 to 1.79604, saving model to model2.h5\n",
            "Epoch 12/30\n",
            "9000/9000 [==============================] - 14s 2ms/step - loss: 0.5103 - acc: 0.8683 - val_loss: 1.7923 - val_acc: 0.6928\n",
            "\n",
            "Epoch 00012: val_loss improved from 1.79604 to 1.79228, saving model to model2.h5\n",
            "Epoch 13/30\n",
            "9000/9000 [==============================] - 14s 2ms/step - loss: 0.4176 - acc: 0.8914 - val_loss: 1.7503 - val_acc: 0.7058\n",
            "\n",
            "Epoch 00013: val_loss improved from 1.79228 to 1.75031, saving model to model2.h5\n",
            "Epoch 14/30\n",
            "9000/9000 [==============================] - 14s 2ms/step - loss: 0.3430 - acc: 0.9099 - val_loss: 1.7554 - val_acc: 0.7034\n",
            "\n",
            "Epoch 00014: val_loss did not improve from 1.75031\n",
            "Epoch 15/30\n",
            "9000/9000 [==============================] - 14s 2ms/step - loss: 0.2919 - acc: 0.9219 - val_loss: 1.7575 - val_acc: 0.7044\n",
            "\n",
            "Epoch 00015: val_loss did not improve from 1.75031\n",
            "Epoch 16/30\n",
            "9000/9000 [==============================] - 14s 2ms/step - loss: 0.2495 - acc: 0.9312 - val_loss: 1.7721 - val_acc: 0.7036\n",
            "\n",
            "Epoch 00016: val_loss did not improve from 1.75031\n",
            "Epoch 17/30\n",
            "9000/9000 [==============================] - 14s 2ms/step - loss: 0.2206 - acc: 0.9377 - val_loss: 1.7724 - val_acc: 0.7116\n",
            "\n",
            "Epoch 00017: val_loss did not improve from 1.75031\n",
            "Epoch 18/30\n",
            "9000/9000 [==============================] - 14s 2ms/step - loss: 0.1952 - acc: 0.9436 - val_loss: 1.7846 - val_acc: 0.7098\n",
            "\n",
            "Epoch 00018: val_loss did not improve from 1.75031\n",
            "Epoch 19/30\n",
            "9000/9000 [==============================] - 14s 2ms/step - loss: 0.1785 - acc: 0.9473 - val_loss: 1.7954 - val_acc: 0.7114\n",
            "\n",
            "Epoch 00019: val_loss did not improve from 1.75031\n",
            "Epoch 20/30\n",
            "9000/9000 [==============================] - 14s 2ms/step - loss: 0.1636 - acc: 0.9487 - val_loss: 1.8318 - val_acc: 0.7124\n",
            "\n",
            "Epoch 00020: val_loss did not improve from 1.75031\n",
            "Epoch 21/30\n",
            "9000/9000 [==============================] - 14s 2ms/step - loss: 0.1525 - acc: 0.9520 - val_loss: 1.8266 - val_acc: 0.7158\n",
            "\n",
            "Epoch 00021: val_loss did not improve from 1.75031\n",
            "Epoch 22/30\n",
            "9000/9000 [==============================] - 14s 2ms/step - loss: 0.1407 - acc: 0.9530 - val_loss: 1.8548 - val_acc: 0.7146\n",
            "\n",
            "Epoch 00022: val_loss did not improve from 1.75031\n",
            "Epoch 23/30\n",
            "9000/9000 [==============================] - 14s 2ms/step - loss: 0.1379 - acc: 0.9535 - val_loss: 1.8350 - val_acc: 0.7166\n",
            "\n",
            "Epoch 00023: val_loss did not improve from 1.75031\n",
            "Epoch 24/30\n",
            "9000/9000 [==============================] - 14s 2ms/step - loss: 0.1302 - acc: 0.9552 - val_loss: 1.8675 - val_acc: 0.7146\n",
            "\n",
            "Epoch 00024: val_loss did not improve from 1.75031\n",
            "Epoch 25/30\n",
            "9000/9000 [==============================] - 14s 2ms/step - loss: 0.1291 - acc: 0.9539 - val_loss: 1.8774 - val_acc: 0.7110\n",
            "\n",
            "Epoch 00025: val_loss did not improve from 1.75031\n",
            "Epoch 26/30\n",
            "9000/9000 [==============================] - 14s 2ms/step - loss: 0.1220 - acc: 0.9557 - val_loss: 1.8930 - val_acc: 0.7130\n",
            "\n",
            "Epoch 00026: val_loss did not improve from 1.75031\n",
            "Epoch 27/30\n",
            "9000/9000 [==============================] - 14s 2ms/step - loss: 0.1207 - acc: 0.9549 - val_loss: 1.8934 - val_acc: 0.7190\n",
            "\n",
            "Epoch 00027: val_loss did not improve from 1.75031\n",
            "Epoch 28/30\n",
            "9000/9000 [==============================] - 14s 2ms/step - loss: 0.1219 - acc: 0.9544 - val_loss: 1.8880 - val_acc: 0.7174\n",
            "\n",
            "Epoch 00028: val_loss did not improve from 1.75031\n",
            "Epoch 29/30\n",
            "9000/9000 [==============================] - 14s 2ms/step - loss: 0.1177 - acc: 0.9555 - val_loss: 1.9021 - val_acc: 0.7152\n",
            "\n",
            "Epoch 00029: val_loss did not improve from 1.75031\n",
            "Epoch 30/30\n",
            "9000/9000 [==============================] - 14s 2ms/step - loss: 0.1183 - acc: 0.9558 - val_loss: 1.9137 - val_acc: 0.7202\n",
            "\n",
            "Epoch 00030: val_loss did not improve from 1.75031\n"
          ],
          "name": "stdout"
        }
      ]
    },
    {
      "cell_type": "code",
      "metadata": {
        "id": "4zGWb63pwgK8",
        "colab_type": "code",
        "outputId": "401eb1f5-8f57-4970-cbbb-3c3063562090",
        "colab": {
          "base_uri": "https://localhost:8080/",
          "height": 735
        }
      },
      "source": [
        "plotLosses(history2)\n",
        "plotAcc(history2)"
      ],
      "execution_count": 0,
      "outputs": [
        {
          "output_type": "display_data",
          "data": {
            "image/png": "[encoded data removed]",
            "text/plain": [
              "<Figure size 576x396 with 1 Axes>"
            ]
          },
          "metadata": {
            "tags": []
          }
        },
        {
          "output_type": "display_data",
          "data": {
            "image/png": "[encoded data removed]",
            "text/plain": [
              "<Figure size 576x396 with 1 Axes>"
            ]
          },
          "metadata": {
            "tags": []
          }
        }
      ]
    },
    {
      "cell_type": "markdown",
      "metadata": {
        "id": "DSg16vp9zeb8",
        "colab_type": "text"
      },
      "source": [
        "## Model 3 Using GRU"
      ]
    },
    {
      "cell_type": "code",
      "metadata": {
        "id": "oh9lnb-rzgnO",
        "colab_type": "code",
        "colab": {}
      },
      "source": [
        "def define_model_3(src_vocab, tar_vocab, src_timesteps, tar_timesteps, n_units):\n",
        "\t##encoder\n",
        " model = Sequential()\n",
        " model.add(Embedding(src_vocab, n_units, input_length=src_timesteps, mask_zero=True))\n",
        " model.add(GRU(n_units))\n",
        "\t##decoder\n",
        " model.add(RepeatVector(tar_timesteps))\n",
        " model.add(GRU(n_units, return_sequences=True))\n",
        " model.add(TimeDistributed(Dense(tar_vocab, activation='softmax')))\n",
        " return model"
      ],
      "execution_count": 0,
      "outputs": []
    },
    {
      "cell_type": "code",
      "metadata": {
        "id": "CWyhJM6IzgtF",
        "colab_type": "code",
        "outputId": "afc516aa-a4b5-46b4-c3fc-543fd4006458",
        "colab": {
          "base_uri": "https://localhost:8080/",
          "height": 2570
        }
      },
      "source": [
        "# define model\n",
        "#model = define_model(ger_vocab_size, eng_vocab_size, ger_length, eng_length, 256)\n",
        "model = define_model_3(ger_vocab_size, eng_vocab_size, ger_length, eng_length, 256)\n",
        "model.compile(optimizer='adam', loss='categorical_crossentropy',metrics = ['accuracy'])\n",
        "# summarize defined model\n",
        "print(model.summary())\n",
        "plot_model(model, to_file='model.png', show_shapes=True)\n",
        "# fit model\n",
        "filename = 'model3.h5'\n",
        "checkpoint = ModelCheckpoint(filename, verbose=1, save_best_only=True, mode='min')\n",
        "history3=model.fit(trainX, trainY, epochs=30, batch_size=64, validation_data=(testX, testY), callbacks=[checkpoint], verbose=1)\n"
      ],
      "execution_count": 0,
      "outputs": [
        {
          "output_type": "stream",
          "text": [
            "_________________________________________________________________\n",
            "Layer (type)                 Output Shape              Param #   \n",
            "=================================================================\n",
            "embedding_11 (Embedding)     (None, 10, 256)           936192    \n",
            "_________________________________________________________________\n",
            "gru_1 (GRU)                  (None, 256)               393984    \n",
            "_________________________________________________________________\n",
            "repeat_vector_10 (RepeatVect (None, 5, 256)            0         \n",
            "_________________________________________________________________\n",
            "gru_2 (GRU)                  (None, 5, 256)            393984    \n",
            "_________________________________________________________________\n",
            "time_distributed_10 (TimeDis (None, 5, 2309)           593413    \n",
            "=================================================================\n",
            "Total params: 2,317,573\n",
            "Trainable params: 2,317,573\n",
            "Non-trainable params: 0\n",
            "_________________________________________________________________\n",
            "None\n",
            "Train on 9000 samples, validate on 1000 samples\n",
            "Epoch 1/30\n",
            "9000/9000 [==============================] - 12s 1ms/step - loss: 4.2330 - acc: 0.4220 - val_loss: 3.5593 - val_acc: 0.4482\n",
            "\n",
            "Epoch 00001: val_loss improved from inf to 3.55927, saving model to model3.h5\n",
            "Epoch 2/30\n",
            "9000/9000 [==============================] - 7s 762us/step - loss: 3.3626 - acc: 0.4623 - val_loss: 3.3655 - val_acc: 0.4758\n",
            "\n",
            "Epoch 00002: val_loss improved from 3.55927 to 3.36545, saving model to model3.h5\n",
            "Epoch 3/30\n",
            "9000/9000 [==============================] - 7s 769us/step - loss: 3.1417 - acc: 0.4839 - val_loss: 3.2088 - val_acc: 0.4846\n",
            "\n",
            "Epoch 00003: val_loss improved from 3.36545 to 3.20884, saving model to model3.h5\n",
            "Epoch 4/30\n",
            "9000/9000 [==============================] - 7s 763us/step - loss: 2.9292 - acc: 0.5038 - val_loss: 3.0399 - val_acc: 0.5138\n",
            "\n",
            "Epoch 00004: val_loss improved from 3.20884 to 3.03991, saving model to model3.h5\n",
            "Epoch 5/30\n",
            "9000/9000 [==============================] - 7s 767us/step - loss: 2.7140 - acc: 0.5335 - val_loss: 2.8776 - val_acc: 0.5332\n",
            "\n",
            "Epoch 00005: val_loss improved from 3.03991 to 2.87757, saving model to model3.h5\n",
            "Epoch 6/30\n",
            "9000/9000 [==============================] - 7s 764us/step - loss: 2.5110 - acc: 0.5559 - val_loss: 2.7538 - val_acc: 0.5492\n",
            "\n",
            "Epoch 00006: val_loss improved from 2.87757 to 2.75376, saving model to model3.h5\n",
            "Epoch 7/30\n",
            "9000/9000 [==============================] - 7s 759us/step - loss: 2.3239 - acc: 0.5781 - val_loss: 2.6391 - val_acc: 0.5618\n",
            "\n",
            "Epoch 00007: val_loss improved from 2.75376 to 2.63908, saving model to model3.h5\n",
            "Epoch 8/30\n",
            "9000/9000 [==============================] - 7s 768us/step - loss: 2.1454 - acc: 0.6010 - val_loss: 2.5338 - val_acc: 0.5826\n",
            "\n",
            "Epoch 00008: val_loss improved from 2.63908 to 2.53382, saving model to model3.h5\n",
            "Epoch 9/30\n",
            "9000/9000 [==============================] - 7s 765us/step - loss: 1.9747 - acc: 0.6246 - val_loss: 2.4291 - val_acc: 0.5910\n",
            "\n",
            "Epoch 00009: val_loss improved from 2.53382 to 2.42905, saving model to model3.h5\n",
            "Epoch 10/30\n",
            "9000/9000 [==============================] - 7s 748us/step - loss: 1.8055 - acc: 0.6437 - val_loss: 2.3269 - val_acc: 0.6022\n",
            "\n",
            "Epoch 00010: val_loss improved from 2.42905 to 2.32691, saving model to model3.h5\n",
            "Epoch 11/30\n",
            "9000/9000 [==============================] - 7s 753us/step - loss: 1.6472 - acc: 0.6652 - val_loss: 2.2563 - val_acc: 0.6118\n",
            "\n",
            "Epoch 00011: val_loss improved from 2.32691 to 2.25627, saving model to model3.h5\n",
            "Epoch 12/30\n",
            "9000/9000 [==============================] - 7s 745us/step - loss: 1.5005 - acc: 0.6836 - val_loss: 2.1958 - val_acc: 0.6218\n",
            "\n",
            "Epoch 00012: val_loss improved from 2.25627 to 2.19579, saving model to model3.h5\n",
            "Epoch 13/30\n",
            "9000/9000 [==============================] - 7s 754us/step - loss: 1.3620 - acc: 0.7052 - val_loss: 2.1410 - val_acc: 0.6312\n",
            "\n",
            "Epoch 00013: val_loss improved from 2.19579 to 2.14104, saving model to model3.h5\n",
            "Epoch 14/30\n",
            "9000/9000 [==============================] - 7s 749us/step - loss: 1.2322 - acc: 0.7266 - val_loss: 2.0867 - val_acc: 0.6360\n",
            "\n",
            "Epoch 00014: val_loss improved from 2.14104 to 2.08672, saving model to model3.h5\n",
            "Epoch 15/30\n",
            "9000/9000 [==============================] - 7s 746us/step - loss: 1.1078 - acc: 0.7500 - val_loss: 2.0606 - val_acc: 0.6474\n",
            "\n",
            "Epoch 00015: val_loss improved from 2.08672 to 2.06063, saving model to model3.h5\n",
            "Epoch 16/30\n",
            "9000/9000 [==============================] - 7s 757us/step - loss: 0.9966 - acc: 0.7707 - val_loss: 2.0141 - val_acc: 0.6584\n",
            "\n",
            "Epoch 00016: val_loss improved from 2.06063 to 2.01410, saving model to model3.h5\n",
            "Epoch 17/30\n",
            "9000/9000 [==============================] - 7s 769us/step - loss: 0.8889 - acc: 0.7937 - val_loss: 1.9873 - val_acc: 0.6602\n",
            "\n",
            "Epoch 00017: val_loss improved from 2.01410 to 1.98732, saving model to model3.h5\n",
            "Epoch 18/30\n",
            "9000/9000 [==============================] - 7s 743us/step - loss: 0.7971 - acc: 0.8123 - val_loss: 1.9676 - val_acc: 0.6622\n",
            "\n",
            "Epoch 00018: val_loss improved from 1.98732 to 1.96758, saving model to model3.h5\n",
            "Epoch 19/30\n",
            "9000/9000 [==============================] - 7s 742us/step - loss: 0.7066 - acc: 0.8355 - val_loss: 1.9563 - val_acc: 0.6722\n",
            "\n",
            "Epoch 00019: val_loss improved from 1.96758 to 1.95634, saving model to model3.h5\n",
            "Epoch 20/30\n",
            "9000/9000 [==============================] - 7s 747us/step - loss: 0.6290 - acc: 0.8528 - val_loss: 1.9334 - val_acc: 0.6706\n",
            "\n",
            "Epoch 00020: val_loss improved from 1.95634 to 1.93341, saving model to model3.h5\n",
            "Epoch 21/30\n",
            "9000/9000 [==============================] - 7s 742us/step - loss: 0.5606 - acc: 0.8695 - val_loss: 1.9410 - val_acc: 0.6772\n",
            "\n",
            "Epoch 00021: val_loss did not improve from 1.93341\n",
            "Epoch 22/30\n",
            "9000/9000 [==============================] - 7s 734us/step - loss: 0.4970 - acc: 0.8839 - val_loss: 1.9202 - val_acc: 0.6822\n",
            "\n",
            "Epoch 00022: val_loss improved from 1.93341 to 1.92021, saving model to model3.h5\n",
            "Epoch 23/30\n",
            "9000/9000 [==============================] - 7s 739us/step - loss: 0.4426 - acc: 0.8977 - val_loss: 1.9189 - val_acc: 0.6826\n",
            "\n",
            "Epoch 00023: val_loss improved from 1.92021 to 1.91891, saving model to model3.h5\n",
            "Epoch 24/30\n",
            "9000/9000 [==============================] - 7s 729us/step - loss: 0.3935 - acc: 0.9100 - val_loss: 1.9264 - val_acc: 0.6874\n",
            "\n",
            "Epoch 00024: val_loss did not improve from 1.91891\n",
            "Epoch 25/30\n",
            "9000/9000 [==============================] - 7s 730us/step - loss: 0.3502 - acc: 0.9187 - val_loss: 1.9387 - val_acc: 0.6854\n",
            "\n",
            "Epoch 00025: val_loss did not improve from 1.91891\n",
            "Epoch 26/30\n",
            "9000/9000 [==============================] - 7s 732us/step - loss: 0.3150 - acc: 0.9260 - val_loss: 1.9418 - val_acc: 0.6886\n",
            "\n",
            "Epoch 00026: val_loss did not improve from 1.91891\n",
            "Epoch 27/30\n",
            "9000/9000 [==============================] - 7s 739us/step - loss: 0.2839 - acc: 0.9324 - val_loss: 1.9549 - val_acc: 0.6880\n",
            "\n",
            "Epoch 00027: val_loss did not improve from 1.91891\n",
            "Epoch 28/30\n",
            "9000/9000 [==============================] - 7s 735us/step - loss: 0.2563 - acc: 0.9377 - val_loss: 1.9523 - val_acc: 0.6806\n",
            "\n",
            "Epoch 00028: val_loss did not improve from 1.91891\n",
            "Epoch 29/30\n",
            "9000/9000 [==============================] - 7s 738us/step - loss: 0.2339 - acc: 0.9407 - val_loss: 1.9653 - val_acc: 0.6838\n",
            "\n",
            "Epoch 00029: val_loss did not improve from 1.91891\n",
            "Epoch 30/30\n",
            "9000/9000 [==============================] - 7s 732us/step - loss: 0.2147 - acc: 0.9434 - val_loss: 1.9872 - val_acc: 0.6864\n",
            "\n",
            "Epoch 00030: val_loss did not improve from 1.91891\n"
          ],
          "name": "stdout"
        }
      ]
    },
    {
      "cell_type": "code",
      "metadata": {
        "id": "3HxnlLKxzg6K",
        "colab_type": "code",
        "outputId": "c9905c19-64b7-4482-bba6-dc4971f9cf42",
        "colab": {
          "base_uri": "https://localhost:8080/",
          "height": 735
        }
      },
      "source": [
        "plotLosses(history3)\n",
        "plotAcc(history3)"
      ],
      "execution_count": 0,
      "outputs": [
        {
          "output_type": "display_data",
          "data": {
            "image/png": "[encoded data removed]",
            "text/plain": [
              "<Figure size 576x396 with 1 Axes>"
            ]
          },
          "metadata": {
            "tags": []
          }
        },
        {
          "output_type": "display_data",
          "data": {
            "image/png": "[encoded data removed]",
            "text/plain": [
              "<Figure size 576x396 with 1 Axes>"
            ]
          },
          "metadata": {
            "tags": []
          }
        }
      ]
    },
    {
      "cell_type": "markdown",
      "metadata": {
        "id": "bSVqqXsa3HVy",
        "colab_type": "text"
      },
      "source": [
        "## Model 4 Using Bidirectional GRUs"
      ]
    },
    {
      "cell_type": "code",
      "metadata": {
        "id": "ICKw3Sa73WoB",
        "colab_type": "code",
        "colab": {}
      },
      "source": [
        "def define_model_4(src_vocab, tar_vocab, src_timesteps, tar_timesteps, n_units):\n",
        "\t##encoder\n",
        " model = Sequential()\n",
        " model.add(Embedding(src_vocab, n_units, input_length=src_timesteps, mask_zero=True))\n",
        " model.add(Bidirectional(GRU(n_units)))\n",
        "\t##decoder\n",
        " model.add(RepeatVector(tar_timesteps))\n",
        " model.add(Bidirectional(GRU(n_units, return_sequences=True)))\n",
        " model.add(TimeDistributed(Dense(tar_vocab, activation='softmax')))\n",
        " return model"
      ],
      "execution_count": 0,
      "outputs": []
    },
    {
      "cell_type": "code",
      "metadata": {
        "id": "5a2IYe5j3Wr_",
        "colab_type": "code",
        "outputId": "879e130b-f5ca-41bf-c85c-e1dd07ab79be",
        "colab": {
          "base_uri": "https://localhost:8080/",
          "height": 2570
        }
      },
      "source": [
        "# define model\n",
        "#model = define_model(ger_vocab_size, eng_vocab_size, ger_length, eng_length, 256)\n",
        "model = define_model_4(ger_vocab_size, eng_vocab_size, ger_length, eng_length, 256)\n",
        "model.compile(optimizer='adam', loss='categorical_crossentropy',metrics = ['accuracy'])\n",
        "# summarize defined model\n",
        "print(model.summary())\n",
        "plot_model(model, to_file='model.png', show_shapes=True)\n",
        "# fit model\n",
        "filename = 'model4.h5'\n",
        "checkpoint = ModelCheckpoint(filename, verbose=1, save_best_only=True, mode='min')\n",
        "history4=model.fit(trainX, trainY, epochs=30, batch_size=64, validation_data=(testX, testY), callbacks=[checkpoint], verbose=1)\n"
      ],
      "execution_count": 0,
      "outputs": [
        {
          "output_type": "stream",
          "text": [
            "_________________________________________________________________\n",
            "Layer (type)                 Output Shape              Param #   \n",
            "=================================================================\n",
            "embedding_14 (Embedding)     (None, 10, 256)           936192    \n",
            "_________________________________________________________________\n",
            "bidirectional_13 (Bidirectio (None, 512)               787968    \n",
            "_________________________________________________________________\n",
            "repeat_vector_13 (RepeatVect (None, 5, 512)            0         \n",
            "_________________________________________________________________\n",
            "bidirectional_14 (Bidirectio (None, 5, 512)            1181184   \n",
            "_________________________________________________________________\n",
            "time_distributed_13 (TimeDis (None, 5, 2309)           1184517   \n",
            "=================================================================\n",
            "Total params: 4,089,861\n",
            "Trainable params: 4,089,861\n",
            "Non-trainable params: 0\n",
            "_________________________________________________________________\n",
            "None\n",
            "Train on 9000 samples, validate on 1000 samples\n",
            "Epoch 1/30\n",
            "9000/9000 [==============================] - 20s 2ms/step - loss: 4.0087 - acc: 0.4338 - val_loss: 3.5549 - val_acc: 0.4478\n",
            "\n",
            "Epoch 00001: val_loss improved from inf to 3.55486, saving model to model4.h5\n",
            "Epoch 2/30\n",
            "9000/9000 [==============================] - 12s 1ms/step - loss: 3.4556 - acc: 0.4457 - val_loss: 3.5259 - val_acc: 0.4478\n",
            "\n",
            "Epoch 00002: val_loss improved from 3.55486 to 3.52594, saving model to model4.h5\n",
            "Epoch 3/30\n",
            "9000/9000 [==============================] - 12s 1ms/step - loss: 3.3861 - acc: 0.4498 - val_loss: 3.5207 - val_acc: 0.4536\n",
            "\n",
            "Epoch 00003: val_loss improved from 3.52594 to 3.52072, saving model to model4.h5\n",
            "Epoch 4/30\n",
            "9000/9000 [==============================] - 12s 1ms/step - loss: 3.3301 - acc: 0.4524 - val_loss: 3.5257 - val_acc: 0.4488\n",
            "\n",
            "Epoch 00004: val_loss did not improve from 3.52072\n",
            "Epoch 5/30\n",
            "9000/9000 [==============================] - 12s 1ms/step - loss: 3.2768 - acc: 0.4549 - val_loss: 3.5637 - val_acc: 0.4470\n",
            "\n",
            "Epoch 00005: val_loss did not improve from 3.52072\n",
            "Epoch 6/30\n",
            "9000/9000 [==============================] - 12s 1ms/step - loss: 3.2167 - acc: 0.4586 - val_loss: 3.6290 - val_acc: 0.4378\n",
            "\n",
            "Epoch 00006: val_loss did not improve from 3.52072\n",
            "Epoch 7/30\n",
            "9000/9000 [==============================] - 12s 1ms/step - loss: 3.1480 - acc: 0.4649 - val_loss: 3.6462 - val_acc: 0.4398\n",
            "\n",
            "Epoch 00007: val_loss did not improve from 3.52072\n",
            "Epoch 8/30\n",
            "9000/9000 [==============================] - 12s 1ms/step - loss: 3.0574 - acc: 0.4718 - val_loss: 3.7278 - val_acc: 0.4330\n",
            "\n",
            "Epoch 00008: val_loss did not improve from 3.52072\n",
            "Epoch 9/30\n",
            "9000/9000 [==============================] - 12s 1ms/step - loss: 2.9340 - acc: 0.4809 - val_loss: 3.8091 - val_acc: 0.4302\n",
            "\n",
            "Epoch 00009: val_loss did not improve from 3.52072\n",
            "Epoch 10/30\n",
            "9000/9000 [==============================] - 12s 1ms/step - loss: 2.7849 - acc: 0.4917 - val_loss: 3.9430 - val_acc: 0.4266\n",
            "\n",
            "Epoch 00010: val_loss did not improve from 3.52072\n",
            "Epoch 11/30\n",
            "9000/9000 [==============================] - 12s 1ms/step - loss: 2.6073 - acc: 0.5060 - val_loss: 4.0918 - val_acc: 0.4166\n",
            "\n",
            "Epoch 00011: val_loss did not improve from 3.52072\n",
            "Epoch 12/30\n",
            "9000/9000 [==============================] - 12s 1ms/step - loss: 2.4129 - acc: 0.5226 - val_loss: 4.2999 - val_acc: 0.4192\n",
            "\n",
            "Epoch 00012: val_loss did not improve from 3.52072\n",
            "Epoch 13/30\n",
            "9000/9000 [==============================] - 12s 1ms/step - loss: 2.2052 - acc: 0.5488 - val_loss: 4.4765 - val_acc: 0.4120\n",
            "\n",
            "Epoch 00013: val_loss did not improve from 3.52072\n",
            "Epoch 14/30\n",
            "9000/9000 [==============================] - 12s 1ms/step - loss: 1.9914 - acc: 0.5753 - val_loss: 4.6275 - val_acc: 0.4050\n",
            "\n",
            "Epoch 00014: val_loss did not improve from 3.52072\n",
            "Epoch 15/30\n",
            "9000/9000 [==============================] - 12s 1ms/step - loss: 1.7747 - acc: 0.6075 - val_loss: 4.7995 - val_acc: 0.4012\n",
            "\n",
            "Epoch 00015: val_loss did not improve from 3.52072\n",
            "Epoch 16/30\n",
            "9000/9000 [==============================] - 12s 1ms/step - loss: 1.5783 - acc: 0.6396 - val_loss: 4.9579 - val_acc: 0.3982\n",
            "\n",
            "Epoch 00016: val_loss did not improve from 3.52072\n",
            "Epoch 17/30\n",
            "9000/9000 [==============================] - 12s 1ms/step - loss: 1.3922 - acc: 0.6706 - val_loss: 5.1416 - val_acc: 0.3918\n",
            "\n",
            "Epoch 00017: val_loss did not improve from 3.52072\n",
            "Epoch 18/30\n",
            "9000/9000 [==============================] - 12s 1ms/step - loss: 1.2203 - acc: 0.7022 - val_loss: 5.2801 - val_acc: 0.3922\n",
            "\n",
            "Epoch 00018: val_loss did not improve from 3.52072\n",
            "Epoch 19/30\n",
            "9000/9000 [==============================] - 12s 1ms/step - loss: 1.0570 - acc: 0.7369 - val_loss: 5.4379 - val_acc: 0.3862\n",
            "\n",
            "Epoch 00019: val_loss did not improve from 3.52072\n",
            "Epoch 20/30\n",
            "9000/9000 [==============================] - 12s 1ms/step - loss: 0.9081 - acc: 0.7703 - val_loss: 5.6114 - val_acc: 0.3864\n",
            "\n",
            "Epoch 00020: val_loss did not improve from 3.52072\n",
            "Epoch 21/30\n",
            "9000/9000 [==============================] - 12s 1ms/step - loss: 0.7752 - acc: 0.8008 - val_loss: 5.7045 - val_acc: 0.3844\n",
            "\n",
            "Epoch 00021: val_loss did not improve from 3.52072\n",
            "Epoch 22/30\n",
            "9000/9000 [==============================] - 12s 1ms/step - loss: 0.6616 - acc: 0.8293 - val_loss: 5.8666 - val_acc: 0.3848\n",
            "\n",
            "Epoch 00022: val_loss did not improve from 3.52072\n",
            "Epoch 23/30\n",
            "9000/9000 [==============================] - 12s 1ms/step - loss: 0.5639 - acc: 0.8525 - val_loss: 6.0187 - val_acc: 0.3826\n",
            "\n",
            "Epoch 00023: val_loss did not improve from 3.52072\n",
            "Epoch 24/30\n",
            "9000/9000 [==============================] - 12s 1ms/step - loss: 0.4843 - acc: 0.8751 - val_loss: 6.1168 - val_acc: 0.3776\n",
            "\n",
            "Epoch 00024: val_loss did not improve from 3.52072\n",
            "Epoch 25/30\n",
            "9000/9000 [==============================] - 12s 1ms/step - loss: 0.4206 - acc: 0.8877 - val_loss: 6.2153 - val_acc: 0.3794\n",
            "\n",
            "Epoch 00025: val_loss did not improve from 3.52072\n",
            "Epoch 26/30\n",
            "9000/9000 [==============================] - 12s 1ms/step - loss: 0.3757 - acc: 0.8985 - val_loss: 6.2925 - val_acc: 0.3824\n",
            "\n",
            "Epoch 00026: val_loss did not improve from 3.52072\n",
            "Epoch 27/30\n",
            "9000/9000 [==============================] - 12s 1ms/step - loss: 0.3391 - acc: 0.9051 - val_loss: 6.3473 - val_acc: 0.3834\n",
            "\n",
            "Epoch 00027: val_loss did not improve from 3.52072\n",
            "Epoch 28/30\n",
            "9000/9000 [==============================] - 12s 1ms/step - loss: 0.3097 - acc: 0.9104 - val_loss: 6.4553 - val_acc: 0.3830\n",
            "\n",
            "Epoch 00028: val_loss did not improve from 3.52072\n",
            "Epoch 29/30\n",
            "9000/9000 [==============================] - 12s 1ms/step - loss: 0.2895 - acc: 0.9122 - val_loss: 6.5311 - val_acc: 0.3796\n",
            "\n",
            "Epoch 00029: val_loss did not improve from 3.52072\n",
            "Epoch 30/30\n",
            "9000/9000 [==============================] - 12s 1ms/step - loss: 0.2698 - acc: 0.9158 - val_loss: 6.5892 - val_acc: 0.3776\n",
            "\n",
            "Epoch 00030: val_loss did not improve from 3.52072\n"
          ],
          "name": "stdout"
        }
      ]
    },
    {
      "cell_type": "code",
      "metadata": {
        "id": "GxS8NH5K3W3h",
        "colab_type": "code",
        "outputId": "3d0ef99a-0704-46a8-e934-28091d562c3c",
        "colab": {
          "base_uri": "https://localhost:8080/",
          "height": 735
        }
      },
      "source": [
        "plotLosses(history4)\n",
        "plotAcc(history4)"
      ],
      "execution_count": 0,
      "outputs": [
        {
          "output_type": "display_data",
          "data": {
            "image/png": "[encoded data removed]",
            "text/plain": [
              "<Figure size 576x396 with 1 Axes>"
            ]
          },
          "metadata": {
            "tags": []
          }
        },
        {
          "output_type": "display_data",
          "data": {
            "image/png": "[encoded data removed]",
            "text/plain": [
              "<Figure size 576x396 with 1 Axes>"
            ]
          },
          "metadata": {
            "tags": []
          }
        }
      ]
    },
    {
      "cell_type": "markdown",
      "metadata": {
        "id": "5dzEUs0km5_C",
        "colab_type": "text"
      },
      "source": [
        "## Evaluation"
      ]
    },
    {
      "cell_type": "code",
      "metadata": {
        "id": "1z8v12fPL26h",
        "colab_type": "code",
        "outputId": "74d1bbf7-ad6e-428a-b4ed-31bb7840f9d1",
        "colab": {
          "base_uri": "https://localhost:8080/",
          "height": 715
        }
      },
      "source": [
        "from numpy import array\n",
        "from numpy import argmax\n",
        "from keras.preprocessing.text import Tokenizer\n",
        "from keras.preprocessing.sequence import pad_sequences\n",
        "from keras.models import load_model\n",
        "from nltk.translate.bleu_score import corpus_bleu\n",
        " \n",
        "# load a clean dataset\n",
        "def load_clean_sentences(filename):\n",
        "\treturn load(open(filename, 'rb'))\n",
        " \n",
        "# fit a tokenizer\n",
        "def create_tokenizer(lines):\n",
        "\ttokenizer = Tokenizer()\n",
        "\ttokenizer.fit_on_texts(lines)\n",
        "\treturn tokenizer\n",
        " \n",
        "# max sentence length\n",
        "def max_length(lines):\n",
        "\treturn max(len(line.split()) for line in lines)\n",
        " \n",
        "# encode and pad sequences\n",
        "def encode_sequences(tokenizer, length, lines):\n",
        "\t# integer encode sequences\n",
        "\tX = tokenizer.texts_to_sequences(lines)\n",
        "\t# pad sequences with 0 values\n",
        "\tX = pad_sequences(X, maxlen=length, padding='post')\n",
        "\treturn X\n",
        " \n",
        "# map an integer to a word\n",
        "def word_for_id(integer, tokenizer):\n",
        "\tfor word, index in tokenizer.word_index.items():\n",
        "\t\tif index == integer:\n",
        "\t\t\treturn word\n",
        "\treturn None\n",
        " \n",
        "# generate target given source sequence\n",
        "def predict_sequence(model, tokenizer, source):\n",
        "\tprediction = model.predict(source, verbose=0)[0]\n",
        "\tintegers = [argmax(vector) for vector in prediction]\n",
        "\ttarget = list()\n",
        "\tfor i in integers:\n",
        "\t\tword = word_for_id(i, tokenizer)\n",
        "\t\tif word is None:\n",
        "\t\t\tbreak\n",
        "\t\ttarget.append(word)\n",
        "\treturn ' '.join(target)\n",
        " \n",
        "# evaluate the skill of the model\n",
        "def evaluate_model(model, tokenizer, sources, raw_dataset):\n",
        "\tactual, predicted = list(), list()\n",
        "\tfor i, source in enumerate(sources):\n",
        "\t\t# translate encoded source text\n",
        "\t\tsource = source.reshape((1, source.shape[0]))\n",
        "\t\ttranslation = predict_sequence(model, eng_tokenizer, source)\n",
        "\t\traw_target, raw_src = raw_dataset[i]\n",
        "\t\tif i < 10:\n",
        "\t\t\tprint('src=[%s], target=[%s], predicted=[%s]' % (raw_src, raw_target, translation))\n",
        "\t\tactual.append(raw_target.split())\n",
        "\t\tpredicted.append(translation.split())\n",
        "\t# calculate BLEU score\n",
        "\tprint('BLEU-1: %f' % corpus_bleu(actual, predicted, weights=(1.0, 0, 0, 0)))\n",
        "\tprint('BLEU-2: %f' % corpus_bleu(actual, predicted, weights=(0.5, 0.5, 0, 0)))\n",
        "\tprint('BLEU-3: %f' % corpus_bleu(actual, predicted, weights=(0.3, 0.3, 0.3, 0)))\n",
        "\tprint('BLEU-4: %f' % corpus_bleu(actual, predicted, weights=(0.25, 0.25, 0.25, 0.25)))\n",
        " \n",
        "# load datasets\n",
        "dataset = load_clean_sentences('english-german-both.pkl')\n",
        "train = load_clean_sentences('english-german-train.pkl')\n",
        "test = load_clean_sentences('english-german-test.pkl')\n",
        "# prepare english tokenizer\n",
        "eng_tokenizer = create_tokenizer(dataset[:, 0])\n",
        "eng_vocab_size = len(eng_tokenizer.word_index) + 1\n",
        "eng_length = max_length(dataset[:, 0])\n",
        "# prepare german tokenizer\n",
        "ger_tokenizer = create_tokenizer(dataset[:, 1])\n",
        "ger_vocab_size = len(ger_tokenizer.word_index) + 1\n",
        "ger_length = max_length(dataset[:, 1])\n",
        "# prepare data\n",
        "trainX = encode_sequences(ger_tokenizer, ger_length, train[:, 1])\n",
        "testX = encode_sequences(ger_tokenizer, ger_length, test[:, 1])\n",
        " \n",
        "# load model\n",
        "model = load_model('model1.h5')\n",
        "# test on some training sequences\n",
        "print('train')\n",
        "evaluate_model(model, eng_tokenizer, trainX, train)\n",
        "# test on some test sequences\n",
        "print('test')\n",
        "evaluate_model(model, eng_tokenizer, testX, test)"
      ],
      "execution_count": 0,
      "outputs": [
        {
          "output_type": "stream",
          "text": [
            "train\n",
            "src=[tom humpelt], target=[toms limping], predicted=[tom is]\n",
            "src=[gib mir einen tag], target=[give me a day], predicted=[give me a day]\n",
            "src=[es funktioniert bestens], target=[it works great], predicted=[it works great]\n",
            "src=[mein fernseher ist kaputt], target=[my tv is broken], predicted=[my is is is]\n",
            "src=[wir wollen ein auto], target=[we want a car], predicted=[we want a car]\n",
            "src=[das ist ein verbrechen], target=[thats a crime], predicted=[thats a crime]\n",
            "src=[ich bin besturzt], target=[im upset], predicted=[im upset]\n",
            "src=[ich bin noch nie schuchtern gewesen], target=[i never was shy], predicted=[i never left shy]\n",
            "src=[das gehort tom], target=[its toms], predicted=[thats is]\n",
            "src=[ich habe plane], target=[ive got plans], predicted=[ive got plans]\n"
          ],
          "name": "stdout"
        },
        {
          "output_type": "stream",
          "text": [
            "/usr/local/lib/python3.6/dist-packages/nltk/translate/bleu_score.py:490: UserWarning: \n",
            "Corpus/Sentence contains 0 counts of 3-gram overlaps.\n",
            "BLEU scores might be undesirable; use SmoothingFunction().\n",
            "  warnings.warn(_msg)\n"
          ],
          "name": "stderr"
        },
        {
          "output_type": "stream",
          "text": [
            "BLEU-1: 0.074558\n",
            "BLEU-2: 0.003448\n",
            "BLEU-3: 0.032374\n",
            "BLEU-4: 0.056669\n",
            "test\n",
            "src=[ich bin nicht beschaftigt], target=[im not busy], predicted=[im not busy]\n",
            "src=[zeit ist geld], target=[time is money], predicted=[its is mine]\n",
            "src=[ich bekenne mich schuldig], target=[i plead guilty], predicted=[i came him]\n",
            "src=[behalts], target=[keep that], predicted=[no]\n",
            "src=[ich bin kein heiliger], target=[im no saint], predicted=[im so today]\n",
            "src=[ich habe die wette verloren], target=[i lost the bet], predicted=[i lost my]\n",
            "src=[ich bin analphabetin], target=[im illiterate], predicted=[im am]\n",
            "src=[du wurdest dich amusieren], target=[youd have fun], predicted=[youd need]\n",
            "src=[zahl bis zehn], target=[count to ten], predicted=[do we to]\n",
            "src=[sie sollten essen], target=[you should eat], predicted=[you should eat]\n"
          ],
          "name": "stdout"
        },
        {
          "output_type": "stream",
          "text": [
            "/usr/local/lib/python3.6/dist-packages/nltk/translate/bleu_score.py:490: UserWarning: \n",
            "Corpus/Sentence contains 0 counts of 2-gram overlaps.\n",
            "BLEU scores might be undesirable; use SmoothingFunction().\n",
            "  warnings.warn(_msg)\n"
          ],
          "name": "stderr"
        },
        {
          "output_type": "stream",
          "text": [
            "BLEU-1: 0.075887\n",
            "BLEU-2: 0.267924\n",
            "BLEU-3: 0.443761\n",
            "BLEU-4: 0.503423\n"
          ],
          "name": "stdout"
        }
      ]
    },
    {
      "cell_type": "markdown",
      "metadata": {
        "id": "8mR6Ua78BxOB",
        "colab_type": "text"
      },
      "source": [
        "## Basic NMT chatbot"
      ]
    },
    {
      "cell_type": "code",
      "metadata": {
        "id": "9CEnV3XDAgyf",
        "colab_type": "code",
        "colab": {}
      },
      "source": [
        "\n",
        "sentence = ['hello','hallo']\n",
        "enc_sent = encode_sequences(ger_tokenizer, ger_length, sentence[1])"
      ],
      "execution_count": 0,
      "outputs": []
    },
    {
      "cell_type": "code",
      "metadata": {
        "id": "b7HAY_58CMa5",
        "colab_type": "code",
        "colab": {}
      },
      "source": [
        "from nltk.translate.bleu_score import sentence_bleu\n",
        "model = load_model('model1.h5')\n",
        "\n",
        "# evaluate the skill of the model\n",
        "def evaluate_model_translate(model, tokenizer, source, raw_dataset):\n",
        " actual, predicted = list(), list()\n",
        "\t\n",
        "\t\t# translate encoded source text\n",
        " source = source.reshape((1, source.shape[0]))\n",
        " translation = predict_sequence(model, eng_tokenizer, source)\n",
        " raw_target, raw_src = raw_dataset[:,0],raw_dataset[:,1]\n",
        " print(raw_target[0])\n",
        " print('src=[%s], target=[%s], predicted=[%s]' % (raw_src, raw_target, translation))\n",
        " #for each in raw_target:\n",
        " # actual.append(each)\n",
        " actual.append(raw_src[0].split())\n",
        " predicted.append(translation.split())\n",
        "\t# calculate BLEU score\n",
        " print('BLEU-1: %f' % corpus_bleu(actual, predicted, weights=(1.0, 0, 0, 0)))\n",
        " print('BLEU-2: %f' % corpus_bleu(actual, predicted, weights=(0.5, 0.5, 0, 0)))\n",
        " print('BLEU-3: %f' % corpus_bleu(actual, predicted, weights=(0.3, 0.3, 0.3, 0)))\n",
        " print('BLEU-4: %f' % corpus_bleu(actual, predicted, weights=(0.25, 0.25, 0.25, 0.25)))\n",
        "\n",
        " print(predicted)\n",
        " print(actual)\n",
        "\n",
        "\n"
      ],
      "execution_count": 0,
      "outputs": []
    },
    {
      "cell_type": "code",
      "metadata": {
        "id": "LZhvBCyivFSu",
        "colab_type": "code",
        "outputId": "446266c3-6356-4b93-fae0-30249f6a8974",
        "colab": {
          "base_uri": "https://localhost:8080/",
          "height": 384
        }
      },
      "source": [
        "import numpy as np\n",
        "\n",
        "k=0\n",
        "while(k==0):\n",
        " \n",
        " sentence = input(\"\\n\\nPress 1 to quit\\nEnter Sentence\\n\")\n",
        " if(sentence == '1'):\n",
        "  break\n",
        " else:\n",
        "  translation = input(\"Enter Real Translation\\n\")\n",
        "  dt = np.dtype('<U370') \n",
        "  sent_trans = np.array([(sentence,translation)], dtype=dt)\n",
        "  enc_sent = encode_sequences(ger_tokenizer, ger_length, sent_trans[:,0])\n",
        "  final_enc_sent = enc_sent.flatten()\n",
        "  evaluate_model_translate(model, eng_tokenizer, final_enc_sent, sent_trans)\n",
        " \n"
      ],
      "execution_count": 0,
      "outputs": [
        {
          "output_type": "stream",
          "text": [
            "\n",
            "\n",
            "Press 1 to quit\n",
            "Enter Sentence\n",
            "du hast mich\n",
            "Enter Real Translation\n",
            "you got me\n",
            "du hast mich\n",
            "src=[['you got me']], target=[['du hast mich']], predicted=[you amuse me]\n",
            "BLEU-1: 0.000000\n",
            "BLEU-2: 0.000000\n",
            "BLEU-3: 0.000000\n",
            "BLEU-4: 0.000000\n",
            "[['you', 'amuse', 'me']]\n",
            "[['you', 'got', 'me']]\n",
            "\n",
            "\n",
            "Press 1 to quit\n",
            "Enter Sentence\n",
            "1\n"
          ],
          "name": "stdout"
        }
      ]
    },
    {
      "cell_type": "code",
      "metadata": {
        "id": "TxG6evhm12HJ",
        "colab_type": "code",
        "outputId": "1d876f65-0754-4d71-c4fc-350b7c3cf116",
        "colab": {
          "base_uri": "https://localhost:8080/",
          "height": 109
        }
      },
      "source": [
        "reference = [['you ', 'amuse', 'me']]\n",
        "candidate = ['you', 'are', 'me']\n",
        "score = sentence_bleu(reference, candidate)\n",
        "print(score)"
      ],
      "execution_count": 0,
      "outputs": [
        {
          "output_type": "stream",
          "text": [
            "0.7598356856515925\n"
          ],
          "name": "stdout"
        },
        {
          "output_type": "stream",
          "text": [
            "/usr/local/lib/python3.6/dist-packages/nltk/translate/bleu_score.py:490: UserWarning: \n",
            "Corpus/Sentence contains 0 counts of 2-gram overlaps.\n",
            "BLEU scores might be undesirable; use SmoothingFunction().\n",
            "  warnings.warn(_msg)\n"
          ],
          "name": "stderr"
        }
      ]
    },
    {
      "cell_type": "code",
      "metadata": {
        "id": "3tAkH96Q8URk",
        "colab_type": "code",
        "colab": {}
      },
      "source": [
        ""
      ],
      "execution_count": 0,
      "outputs": []
    }
  ]
}